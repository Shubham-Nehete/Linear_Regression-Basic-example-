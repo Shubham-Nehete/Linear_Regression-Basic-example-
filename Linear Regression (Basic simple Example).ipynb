{
 "cells": [
  {
   "cell_type": "markdown",
   "id": "geological-malta",
   "metadata": {},
   "source": [
    "# Linear Regression"
   ]
  },
  {
   "cell_type": "markdown",
   "id": "former-chambers",
   "metadata": {},
   "source": [
    "**SKLearn.linear_Regression**\n",
    "\n",
    "\n",
    "LinearRegression fits a linear model with coefficients w = (w1, …, wp) to minimize the residual sum of squares between the observed targets in the dataset, and the targets predicted by the linear approximation.\n",
    "\n",
    "**Notes**\n",
    "From the implementation point of view, this is just plain Ordinary Least Squares or Non Negative Least Squares wrapped as a predictor object.\n",
    "\n",
    "Ordinary Least Squares (OLS) Method\n",
    "To use OLS method, we apply the below formula to find the equation\n",
    "\n",
    "<img src=\"OLS.png\">\n",
    "<img src=\"ols1.png\">\n",
    "\n",
    "\n",
    "\n",
    "\n",
    "\n",
    "\n"
   ]
  },
  {
   "cell_type": "markdown",
   "id": "legislative-angle",
   "metadata": {},
   "source": [
    "### Importing Libraries"
   ]
  },
  {
   "cell_type": "code",
   "execution_count": 1,
   "id": "occasional-professional",
   "metadata": {},
   "outputs": [],
   "source": [
    "import numpy as np\n",
    "import pandas as pd\n",
    "import matplotlib.pyplot as plt"
   ]
  },
  {
   "cell_type": "markdown",
   "id": "together-violation",
   "metadata": {},
   "source": [
    "### Importing Dataset"
   ]
  },
  {
   "cell_type": "code",
   "execution_count": 2,
   "id": "optional-reference",
   "metadata": {},
   "outputs": [
    {
     "data": {
      "text/html": [
       "<div>\n",
       "<style scoped>\n",
       "    .dataframe tbody tr th:only-of-type {\n",
       "        vertical-align: middle;\n",
       "    }\n",
       "\n",
       "    .dataframe tbody tr th {\n",
       "        vertical-align: top;\n",
       "    }\n",
       "\n",
       "    .dataframe thead th {\n",
       "        text-align: right;\n",
       "    }\n",
       "</style>\n",
       "<table border=\"1\" class=\"dataframe\">\n",
       "  <thead>\n",
       "    <tr style=\"text-align: right;\">\n",
       "      <th></th>\n",
       "      <th>YearsExperience</th>\n",
       "      <th>Salary</th>\n",
       "    </tr>\n",
       "  </thead>\n",
       "  <tbody>\n",
       "    <tr>\n",
       "      <th>0</th>\n",
       "      <td>1.1</td>\n",
       "      <td>39343.0</td>\n",
       "    </tr>\n",
       "    <tr>\n",
       "      <th>1</th>\n",
       "      <td>1.3</td>\n",
       "      <td>46205.0</td>\n",
       "    </tr>\n",
       "    <tr>\n",
       "      <th>2</th>\n",
       "      <td>1.5</td>\n",
       "      <td>37731.0</td>\n",
       "    </tr>\n",
       "    <tr>\n",
       "      <th>3</th>\n",
       "      <td>2.0</td>\n",
       "      <td>43525.0</td>\n",
       "    </tr>\n",
       "    <tr>\n",
       "      <th>4</th>\n",
       "      <td>2.2</td>\n",
       "      <td>39891.0</td>\n",
       "    </tr>\n",
       "  </tbody>\n",
       "</table>\n",
       "</div>"
      ],
      "text/plain": [
       "   YearsExperience   Salary\n",
       "0              1.1  39343.0\n",
       "1              1.3  46205.0\n",
       "2              1.5  37731.0\n",
       "3              2.0  43525.0\n",
       "4              2.2  39891.0"
      ]
     },
     "execution_count": 2,
     "metadata": {},
     "output_type": "execute_result"
    }
   ],
   "source": [
    "df = pd.read_csv(\"Salary_Data.csv\")\n",
    "x = df.iloc[:,0].values.reshape(-1,1)\n",
    "y = df.iloc[:,-1].values.reshape(-1,1)\n",
    "df.head()"
   ]
  },
  {
   "cell_type": "markdown",
   "id": "appointed-cathedral",
   "metadata": {},
   "source": [
    "### Feature scaling\n",
    "Here, scaling for target feature is done before splitting the data. This is done because, a target feature with a large spread of values, in turn, may result causing weight values to change dramatically, making the learning process unstable."
   ]
  },
  {
   "cell_type": "code",
   "execution_count": 3,
   "id": "dietary-requirement",
   "metadata": {},
   "outputs": [],
   "source": [
    "from sklearn.preprocessing import StandardScaler\n",
    "sc = StandardScaler()\n",
    "y = sc.fit_transform(y)"
   ]
  },
  {
   "cell_type": "markdown",
   "id": "protecting-dating",
   "metadata": {},
   "source": [
    "### Splitting the dataSet into Training & Testing"
   ]
  },
  {
   "cell_type": "code",
   "execution_count": 4,
   "id": "european-arrival",
   "metadata": {},
   "outputs": [],
   "source": [
    "from sklearn.model_selection import train_test_split\n",
    "x_train, x_test, y_train, y_test = train_test_split(x,y, test_size= 0.25, random_state=0)"
   ]
  },
  {
   "cell_type": "markdown",
   "id": "better-hardware",
   "metadata": {},
   "source": [
    "### Feature Scaling on the dataset\n",
    "Here, the feature scaling is dne after splitting the dataset into training and testing so as to make the model learn to transform the testing data based on the parameters calculated for transforming the training dataset and hence, *sc.fit_transform* is used for training dataset and only *sc.transform* for testing dataset."
   ]
  },
  {
   "cell_type": "markdown",
   "id": "ready-mainstream",
   "metadata": {},
   "source": [
    "x_train = sc.fit_transform(x_train)\n",
    "x_test = sc.transform(x_test)"
   ]
  },
  {
   "cell_type": "markdown",
   "id": "dirty-repeat",
   "metadata": {},
   "source": [
    "### Fitting the training dataset into model"
   ]
  },
  {
   "cell_type": "code",
   "execution_count": 5,
   "id": "adjacent-herald",
   "metadata": {},
   "outputs": [
    {
     "data": {
      "text/plain": [
       "LinearRegression()"
      ]
     },
     "execution_count": 5,
     "metadata": {},
     "output_type": "execute_result"
    }
   ],
   "source": [
    "from sklearn.linear_model import LinearRegression\n",
    "regressor = LinearRegression()\n",
    "regressor.fit(x_train,y_train)"
   ]
  },
  {
   "cell_type": "markdown",
   "id": "developed-kernel",
   "metadata": {},
   "source": [
    "### Predicting the testing Dataset"
   ]
  },
  {
   "cell_type": "code",
   "execution_count": 6,
   "id": "fabulous-movie",
   "metadata": {},
   "outputs": [],
   "source": [
    "y_pred = regressor.predict(x_test)"
   ]
  },
  {
   "cell_type": "markdown",
   "id": "exact-saver",
   "metadata": {},
   "source": [
    "### Regresssion Coefficients (Slope)\n",
    "Slope indicated, for a unit change in the x-axis value (here, experience) what will be the respective\n",
    "change in the Y-axis value (here, Salary)"
   ]
  },
  {
   "cell_type": "code",
   "execution_count": 7,
   "id": "romantic-carter",
   "metadata": {},
   "outputs": [
    {
     "data": {
      "text/plain": [
       "array([[0.34799407]])"
      ]
     },
     "execution_count": 7,
     "metadata": {},
     "output_type": "execute_result"
    }
   ],
   "source": [
    "regressor.coef_"
   ]
  },
  {
   "cell_type": "markdown",
   "id": "guided-fruit",
   "metadata": {},
   "source": [
    "### Regression Intercept\n",
    "Intercept indicates that when my x-axis value (here, experience) is zero, where does my salary actually points to the y-axis"
   ]
  },
  {
   "cell_type": "code",
   "execution_count": 8,
   "id": "concerned-people",
   "metadata": {},
   "outputs": [
    {
     "data": {
      "text/plain": [
       "array([-1.81854065])"
      ]
     },
     "execution_count": 8,
     "metadata": {},
     "output_type": "execute_result"
    }
   ],
   "source": [
    "regressor.intercept_"
   ]
  },
  {
   "cell_type": "markdown",
   "id": "toxic-minister",
   "metadata": {},
   "source": [
    "### Evaluation of model"
   ]
  },
  {
   "cell_type": "code",
   "execution_count": 9,
   "id": "cutting-yesterday",
   "metadata": {},
   "outputs": [
    {
     "data": {
      "text/plain": [
       "0.13016958967275338"
      ]
     },
     "execution_count": 9,
     "metadata": {},
     "output_type": "execute_result"
    }
   ],
   "source": [
    "from sklearn.metrics import mean_absolute_error, mean_squared_error\n",
    "mean_absolute_error(y_test,y_pred)"
   ]
  },
  {
   "cell_type": "code",
   "execution_count": 10,
   "id": "willing-blanket",
   "metadata": {},
   "outputs": [
    {
     "name": "stdout",
     "output_type": "stream",
     "text": [
      "0.03084372046005702\n"
     ]
    }
   ],
   "source": [
    "# Mean Squared error\n",
    "mse = mean_squared_error(y_test,y_pred)\n",
    "print(mse)"
   ]
  },
  {
   "cell_type": "code",
   "execution_count": 11,
   "id": "qualified-powell",
   "metadata": {},
   "outputs": [
    {
     "name": "stdout",
     "output_type": "stream",
     "text": [
      "0.17562380379680034\n"
     ]
    }
   ],
   "source": [
    "# Root mean squared error\n",
    "rms = np.sqrt(mse)\n",
    "print(rms)"
   ]
  },
  {
   "cell_type": "code",
   "execution_count": 12,
   "id": "turkish-toronto",
   "metadata": {},
   "outputs": [
    {
     "name": "stdout",
     "output_type": "stream",
     "text": [
      "0.9779208335417601\n"
     ]
    }
   ],
   "source": [
    "# Calculating R2 score\n",
    "from sklearn.metrics import r2_score\n",
    "print(r2_score(y_test, y_pred))"
   ]
  },
  {
   "cell_type": "markdown",
   "id": "protecting-instruction",
   "metadata": {},
   "source": [
    "Basically **R2** tells us that how much the variation in prdiction can be explained by taking the actual weight into account.\n",
    "here, r2 = 97.79%, it illustrate that there is 97.79% reduction in variance when we take \"Years of experience\" into account. Alernatively, we can say that \"years of experience\" explains 97.79% of the variation in \"Salary\""
   ]
  },
  {
   "cell_type": "markdown",
   "id": "extensive-veteran",
   "metadata": {},
   "source": [
    "### Visualising the Training set results"
   ]
  },
  {
   "cell_type": "code",
   "execution_count": 13,
   "id": "announced-layer",
   "metadata": {},
   "outputs": [
    {
     "data": {
      "image/png": "[encoded data removed]",
      "text/plain": [
       "<Figure size 432x288 with 1 Axes>"
      ]
     },
     "metadata": {
      "needs_background": "light"
     },
     "output_type": "display_data"
    }
   ],
   "source": [
    "plt.scatter(x_train, y_train, color = 'red')\n",
    "plt.plot(x_train, regressor.predict(x_train), color = 'blue')\n",
    "plt.title('Salary vs Experience (Training set)')\n",
    "plt.xlabel('Years of Experience')\n",
    "plt.ylabel('Salary')\n",
    "plt.show()"
   ]
  },
  {
   "cell_type": "markdown",
   "id": "spiritual-springfield",
   "metadata": {},
   "source": [
    "### Visualising Testing results"
   ]
  },
  {
   "cell_type": "code",
   "execution_count": 14,
   "id": "bigger-territory",
   "metadata": {},
   "outputs": [
    {
     "data": {
      "image/png": "[encoded data removed]",
      "text/plain": [
       "<Figure size 432x288 with 1 Axes>"
      ]
     },
     "metadata": {
      "needs_background": "light"
     },
     "output_type": "display_data"
    }
   ],
   "source": [
    "plt.scatter(x_test, y_test, color = 'red')\n",
    "plt.plot(x_train, regressor.predict(x_train), color = 'blue')\n",
    "plt.title('Salary vs Experience (Testing set)')\n",
    "plt.xlabel('Years of Experience')\n",
    "plt.ylabel('Salary')\n",
    "plt.show()"
   ]
  }
 ],
 "metadata": {
  "kernelspec": {
   "display_name": "Python 3",
   "language": "python",
   "name": "python3"
  },
  "language_info": {
   "codemirror_mode": {
    "name": "ipython",
    "version": 3
   },
   "file_extension": ".py",
   "mimetype": "text/x-python",
   "name": "python",
   "nbconvert_exporter": "python",
   "pygments_lexer": "ipython3",
   "version": "3.9.0"
  }
 },
 "nbformat": 4,
 "nbformat_minor": 5
}
